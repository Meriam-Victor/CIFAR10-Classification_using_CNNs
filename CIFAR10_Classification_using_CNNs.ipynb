{
  "nbformat": 4,
  "nbformat_minor": 0,
  "metadata": {
    "colab": {
      "provenance": [],
      "gpuType": "T4",
      "include_colab_link": true
    },
    "kernelspec": {
      "name": "python3",
      "display_name": "Python 3"
    },
    "language_info": {
      "name": "python"
    },
    "accelerator": "GPU"
  },
  "cells": [
    {
      "cell_type": "markdown",
      "metadata": {
        "id": "view-in-github",
        "colab_type": "text"
      },
      "source": [
        "<a href=\"https://colab.research.google.com/github/Meriam-Victor/CIFAR10-Classification_using_CNNs/blob/main/CIFAR10_Classification_using_CNNs.ipynb\" target=\"_parent\"><img src=\"https://colab.research.google.com/assets/colab-badge.svg\" alt=\"Open In Colab\"/></a>"
      ]
    },
    {
      "cell_type": "code",
      "execution_count": null,
      "metadata": {
        "id": "QNApXaJ7xYpX"
      },
      "outputs": [],
      "source": [
        "import tensorflow as tf\n",
        "import seaborn as sns\n",
        "import numpy as np\n",
        "import pandas as pd\n",
        "import matplotlib.pyplot as plt\n",
        "import matplotlib.image as mpimg\n",
        "from tensorflow.keras.models import Sequential\n",
        "from tensorflow.keras.layers import Conv2D,Flatten,Dense, Input, AveragePooling2D, Activation, Dropout\n",
        "from tensorflow.keras.losses import CategoricalCrossentropy\n",
        "from tensorflow.keras.datasets import cifar10\n",
        "from sklearn.model_selection import train_test_split\n",
        "from tensorflow.keras.applications.resnet50 import ResNet50\n",
        "from tensorflow.keras import optimizers\n",
        "from tensorflow.keras.utils import to_categorical\n",
        "from tensorflow import keras\n",
        "from tensorflow.keras import layers\n"
      ]
    },
    {
      "cell_type": "code",
      "source": [
        "(x_train, y_train), (x_test, y_test)=cifar10.load_data()\n",
        "\n",
        "x_train, x_test, y_train, y_test = train_test_split(x_train, y_train, test_size=0.1, random_state=42)\n",
        "\n",
        "print('Shape of x_train is {}'.format(x_train.shape))\n",
        "print('Shape of x_test is {}'.format(x_test.shape))\n",
        "print('Shape of y_train is {}'.format(y_train.shape))\n",
        "print('Shape of y_test is {}'.format(y_test.shape))"
      ],
      "metadata": {
        "id": "UP8k-9SHzI33",
        "colab": {
          "base_uri": "https://localhost:8080/"
        },
        "outputId": "097a25ed-a8c6-4e19-d641-f6a3dee1c5cf"
      },
      "execution_count": null,
      "outputs": [
        {
          "output_type": "stream",
          "name": "stdout",
          "text": [
            "Downloading data from https://www.cs.toronto.edu/~kriz/cifar-10-python.tar.gz\n",
            "170498071/170498071 [==============================] - 4s 0us/step\n",
            "Shape of x_train is (45000, 32, 32, 3)\n",
            "Shape of x_test is (5000, 32, 32, 3)\n",
            "Shape of y_train is (45000, 1)\n",
            "Shape of y_test is (5000, 1)\n"
          ]
        }
      ]
    },
    {
      "cell_type": "code",
      "source": [
        "x_train = x_train/255\n",
        "x_test = x_test/255\n",
        "\n",
        "#One hot encoding\n",
        "y_train_cat=to_categorical(y_train,10)\n",
        "y_test_cat=to_categorical(y_test,10)"
      ],
      "metadata": {
        "id": "pwq7UiXhhxaQ"
      },
      "execution_count": null,
      "outputs": []
    },
    {
      "cell_type": "code",
      "source": [
        "plt.imshow(x_train[100][:,:,0],cmap='gray')#,cmap='grayscale' google greyscale in matplot\n",
        "plt.show()"
      ],
      "metadata": {
        "colab": {
          "base_uri": "https://localhost:8080/",
          "height": 430
        },
        "id": "eK4icnlq12xY",
        "outputId": "c7c21e20-56c4-4d0a-8376-47b721704a1e"
      },
      "execution_count": null,
      "outputs": [
        {
          "output_type": "display_data",
          "data": {
            "text/plain": [
              "<Figure size 640x480 with 1 Axes>"
            ],
            "image/png": "[encoded data removed]"
          },
          "metadata": {}
        }
      ]
    },
    {
      "cell_type": "code",
      "source": [
        "print(y_train[100])\n",
        "print(y_train_cat[100])"
      ],
      "metadata": {
        "colab": {
          "base_uri": "https://localhost:8080/"
        },
        "id": "mdLo8eRR6jjb",
        "outputId": "45cf8d8b-6b8d-44ce-da9a-4c94500a0f41"
      },
      "execution_count": null,
      "outputs": [
        {
          "output_type": "stream",
          "name": "stdout",
          "text": [
            "[7]\n",
            "[0. 0. 0. 0. 0. 0. 0. 1. 0. 0.]\n"
          ]
        }
      ]
    },
    {
      "cell_type": "code",
      "source": [
        "print(f\"Shape of train_X: {x_train.shape}\")\n",
        "print(f\"Shape of y_train: {y_train_cat.shape}\")"
      ],
      "metadata": {
        "colab": {
          "base_uri": "https://localhost:8080/"
        },
        "id": "k0eYUMu2jg5S",
        "outputId": "1b8e6132-f809-4bed-96bd-63f9648a64f6"
      },
      "execution_count": null,
      "outputs": [
        {
          "output_type": "stream",
          "name": "stdout",
          "text": [
            "Shape of train_X: (45000, 32, 32, 3)\n",
            "Shape of y_train: (45000, 10)\n"
          ]
        }
      ]
    },
    {
      "cell_type": "code",
      "source": [
        "def preprocess_image_input(input_images):\n",
        "  input_images = input_images.astype('float32')\n",
        "  return input_images\n",
        "\n",
        "train_X = preprocess_image_input(x_train)\n",
        "valid_X = preprocess_image_input(x_test)"
      ],
      "metadata": {
        "id": "3qA_VAu1kfyL"
      },
      "execution_count": null,
      "outputs": []
    },
    {
      "cell_type": "code",
      "source": [
        "print('Shape of x_train is {}'.format(train_X.shape))\n",
        "print('Shape of x_test is {}'.format(valid_X.shape))\n",
        "print('Shape of y_train is {}'.format(y_train_cat.shape))\n",
        "print('Shape of y_test is {}'.format(y_test_cat.shape))"
      ],
      "metadata": {
        "colab": {
          "base_uri": "https://localhost:8080/"
        },
        "id": "l_hGIWW-laJK",
        "outputId": "a4f13908-26e3-405b-a1e7-a7a7c9802b27"
      },
      "execution_count": null,
      "outputs": [
        {
          "output_type": "stream",
          "name": "stdout",
          "text": [
            "Shape of x_train is (45000, 32, 32, 3)\n",
            "Shape of x_test is (5000, 32, 32, 3)\n",
            "Shape of y_train is (45000, 10)\n",
            "Shape of y_test is (5000, 10)\n"
          ]
        }
      ]
    },
    {
      "cell_type": "code",
      "source": [
        "print(f\"Shape of train_X: {train_X.shape}\")\n",
        "print(f\"Shape of y_train: {y_train_cat.shape}\")"
      ],
      "metadata": {
        "colab": {
          "base_uri": "https://localhost:8080/"
        },
        "id": "4r4GR4qbkn_Z",
        "outputId": "0c9b5d49-5be8-493a-aaf0-f2a83057e3b6"
      },
      "execution_count": null,
      "outputs": [
        {
          "output_type": "stream",
          "name": "stdout",
          "text": [
            "Shape of train_X: (45000, 32, 32, 3)\n",
            "Shape of y_train: (45000, 10)\n"
          ]
        }
      ]
    },
    {
      "cell_type": "code",
      "source": [
        "num_classes = 10\n",
        "\n",
        "# Feature Extraction\n",
        "inputs = tf.keras.layers.Input(shape=(32, 32, 3))\n",
        "\n",
        "# ResNet50 pretrained on imagenet weights\n",
        "resnet_feature_extractor = tf.keras.applications.resnet.ResNet50(input_shape=(32, 32, 3),\n",
        "                                                                 include_top=False,\n",
        "                                                                 weights='imagenet')(inputs)\n",
        "# Global average pooling, Flatten and Dense layers\n",
        "x = tf.keras.layers.GlobalAveragePooling2D()(resnet_feature_extractor)\n",
        "x = tf.keras.layers.Flatten()(x)\n",
        "x = tf.keras.layers.Dense(512, activation=\"relu\")(x)\n",
        "x = tf.keras.layers.Dense(64, activation=\"relu\")(x)\n",
        "\n",
        "# Output layer\n",
        "classification_output = tf.keras.layers.Dense(10, activation=\"softmax\", name=\"classification\")(x)\n",
        "\n",
        "# Define and compile model\n",
        "model = tf.keras.Model(inputs=inputs, outputs=classification_output)\n",
        "\n",
        "\n",
        "\n",
        "\n",
        "model.summary()\n"
      ],
      "metadata": {
        "colab": {
          "base_uri": "https://localhost:8080/"
        },
        "id": "syVBj5SG7L3J",
        "outputId": "8a34075d-6e95-46bb-d035-937ea8550c58"
      },
      "execution_count": null,
      "outputs": [
        {
          "output_type": "stream",
          "name": "stdout",
          "text": [
            "Model: \"model_1\"\n",
            "_________________________________________________________________\n",
            " Layer (type)                Output Shape              Param #   \n",
            "=================================================================\n",
            " input_5 (InputLayer)        [(None, 32, 32, 3)]       0         \n",
            "                                                                 \n",
            " resnet50 (Functional)       (None, 1, 1, 2048)        23587712  \n",
            "                                                                 \n",
            " global_average_pooling2d_5  (None, 2048)              0         \n",
            "  (GlobalAveragePooling2D)                                       \n",
            "                                                                 \n",
            " flatten_16 (Flatten)        (None, 2048)              0         \n",
            "                                                                 \n",
            " dense_28 (Dense)            (None, 512)               1049088   \n",
            "                                                                 \n",
            " dense_29 (Dense)            (None, 64)                32832     \n",
            "                                                                 \n",
            " classification (Dense)      (None, 10)                650       \n",
            "                                                                 \n",
            "=================================================================\n",
            "Total params: 24670282 (94.11 MB)\n",
            "Trainable params: 24617162 (93.91 MB)\n",
            "Non-trainable params: 53120 (207.50 KB)\n",
            "_________________________________________________________________\n"
          ]
        }
      ]
    },
    {
      "cell_type": "code",
      "source": [
        "model.compile(optimizer='adam', loss='categorical_crossentropy', metrics=['acc'])\n"
      ],
      "metadata": {
        "id": "5sawcNzE7To3"
      },
      "execution_count": null,
      "outputs": []
    },
    {
      "cell_type": "code",
      "source": [
        "class myCallback(tf.keras.callbacks.Callback):\n",
        "  def on_epoch_end(self, epoch, logs={}):\n",
        "    if(logs.get('val_acc')>0.85):\n",
        "      print(\"\\nReached 85% accuracy so cancelling training!\")\n",
        "      self.model.stop_training = True\n",
        "\n",
        "callbacks = myCallback()"
      ],
      "metadata": {
        "id": "TMxvdxqUAs9y"
      },
      "execution_count": null,
      "outputs": []
    },
    {
      "cell_type": "code",
      "source": [
        "print(f\"Shape of train_X: {train_X.shape}\")\n",
        "print(f\"Shape of y_train: {y_train_cat.shape}\")"
      ],
      "metadata": {
        "colab": {
          "base_uri": "https://localhost:8080/"
        },
        "id": "C0mMFHSMl3H8",
        "outputId": "832e1cc5-5a94-43ea-e2f8-d0c80234ab5a"
      },
      "execution_count": null,
      "outputs": [
        {
          "output_type": "stream",
          "name": "stdout",
          "text": [
            "Shape of train_X: (45000, 32, 32, 3)\n",
            "Shape of y_train: (45000, 10)\n"
          ]
        }
      ]
    },
    {
      "cell_type": "code",
      "source": [
        "batch_size = 64\n",
        "epochs = 40\n",
        "history = model.fit(train_X, y_train_cat,\n",
        "                    batch_size=batch_size,\n",
        "                    epochs=epochs,\n",
        "                    validation_data = (valid_X, y_test_cat),\n",
        "                    callbacks=[callbacks])"
      ],
      "metadata": {
        "colab": {
          "base_uri": "https://localhost:8080/"
        },
        "id": "cr5Xk-8YCrZn",
        "outputId": "5b4f2c65-f90f-4584-8173-bfa465b69875"
      },
      "execution_count": null,
      "outputs": [
        {
          "output_type": "stream",
          "name": "stdout",
          "text": [
            "Epoch 1/40\n",
            "704/704 [==============================] - 66s 53ms/step - loss: 1.3435 - acc: 0.5440 - val_loss: 3.0009 - val_acc: 0.1976\n",
            "Epoch 2/40\n",
            "704/704 [==============================] - 36s 51ms/step - loss: 1.0744 - acc: 0.6343 - val_loss: 2.5440 - val_acc: 0.2654\n",
            "Epoch 3/40\n",
            "704/704 [==============================] - 36s 51ms/step - loss: 0.9634 - acc: 0.6704 - val_loss: 0.9809 - val_acc: 0.6698\n",
            "Epoch 4/40\n",
            "704/704 [==============================] - 36s 51ms/step - loss: 0.7302 - acc: 0.7554 - val_loss: 1.1828 - val_acc: 0.6534\n",
            "Epoch 5/40\n",
            "704/704 [==============================] - 36s 51ms/step - loss: 0.7193 - acc: 0.7604 - val_loss: 0.9484 - val_acc: 0.6882\n",
            "Epoch 6/40\n",
            "704/704 [==============================] - 35s 50ms/step - loss: 0.5893 - acc: 0.8030 - val_loss: 0.9853 - val_acc: 0.6994\n",
            "Epoch 7/40\n",
            "704/704 [==============================] - 35s 50ms/step - loss: 0.5191 - acc: 0.8270 - val_loss: 0.8245 - val_acc: 0.7420\n",
            "Epoch 8/40\n",
            "704/704 [==============================] - 35s 50ms/step - loss: 0.4599 - acc: 0.8458 - val_loss: 0.8207 - val_acc: 0.7402\n",
            "Epoch 9/40\n",
            "704/704 [==============================] - 35s 50ms/step - loss: 0.3816 - acc: 0.8714 - val_loss: 0.9594 - val_acc: 0.7220\n",
            "Epoch 10/40\n",
            "704/704 [==============================] - 35s 49ms/step - loss: 0.3288 - acc: 0.8902 - val_loss: 0.8802 - val_acc: 0.7346\n",
            "Epoch 11/40\n",
            "704/704 [==============================] - 35s 50ms/step - loss: 0.5649 - acc: 0.8129 - val_loss: 0.7617 - val_acc: 0.7632\n",
            "Epoch 12/40\n",
            "704/704 [==============================] - 35s 50ms/step - loss: 0.3230 - acc: 0.8929 - val_loss: 0.6749 - val_acc: 0.7914\n",
            "Epoch 13/40\n",
            "704/704 [==============================] - 35s 50ms/step - loss: 0.2262 - acc: 0.9241 - val_loss: 38.5630 - val_acc: 0.3396\n",
            "Epoch 14/40\n",
            "704/704 [==============================] - 36s 51ms/step - loss: 0.2106 - acc: 0.9308 - val_loss: 1.0265 - val_acc: 0.7336\n",
            "Epoch 15/40\n",
            "704/704 [==============================] - 36s 51ms/step - loss: 0.2603 - acc: 0.9147 - val_loss: 0.7964 - val_acc: 0.7736\n",
            "Epoch 16/40\n",
            "704/704 [==============================] - 36s 51ms/step - loss: 0.1669 - acc: 0.9454 - val_loss: 1.0869 - val_acc: 0.7502\n",
            "Epoch 17/40\n",
            "704/704 [==============================] - 37s 52ms/step - loss: 0.1445 - acc: 0.9537 - val_loss: 0.9969 - val_acc: 0.7534\n",
            "Epoch 18/40\n",
            "704/704 [==============================] - 35s 50ms/step - loss: 0.1283 - acc: 0.9593 - val_loss: 0.9415 - val_acc: 0.7630\n",
            "Epoch 19/40\n",
            "704/704 [==============================] - 35s 50ms/step - loss: 0.1099 - acc: 0.9637 - val_loss: 1.2317 - val_acc: 0.7242\n",
            "Epoch 20/40\n",
            "704/704 [==============================] - 35s 49ms/step - loss: 0.1102 - acc: 0.9636 - val_loss: 0.9110 - val_acc: 0.7804\n",
            "Epoch 21/40\n",
            "704/704 [==============================] - 35s 50ms/step - loss: 0.1068 - acc: 0.9655 - val_loss: 0.9770 - val_acc: 0.7668\n",
            "Epoch 22/40\n",
            "704/704 [==============================] - 35s 50ms/step - loss: 0.1121 - acc: 0.9646 - val_loss: 1.5804 - val_acc: 0.6826\n",
            "Epoch 23/40\n",
            "704/704 [==============================] - 35s 50ms/step - loss: 0.2839 - acc: 0.9104 - val_loss: 0.9915 - val_acc: 0.7630\n",
            "Epoch 24/40\n",
            "704/704 [==============================] - 36s 51ms/step - loss: 0.0767 - acc: 0.9746 - val_loss: 0.9430 - val_acc: 0.7950\n",
            "Epoch 25/40\n",
            "704/704 [==============================] - 35s 50ms/step - loss: 0.0625 - acc: 0.9801 - val_loss: 0.9965 - val_acc: 0.7912\n",
            "Epoch 26/40\n",
            "704/704 [==============================] - 36s 51ms/step - loss: 0.0747 - acc: 0.9759 - val_loss: 1.5514 - val_acc: 0.7038\n",
            "Epoch 27/40\n",
            "704/704 [==============================] - 35s 50ms/step - loss: 0.1935 - acc: 0.9440 - val_loss: 1.1362 - val_acc: 0.7326\n",
            "Epoch 28/40\n",
            "704/704 [==============================] - 35s 50ms/step - loss: 0.1169 - acc: 0.9657 - val_loss: 1.0297 - val_acc: 0.7804\n",
            "Epoch 29/40\n",
            "704/704 [==============================] - 35s 50ms/step - loss: 0.0735 - acc: 0.9770 - val_loss: 1.1292 - val_acc: 0.7714\n",
            "Epoch 30/40\n",
            "704/704 [==============================] - 35s 50ms/step - loss: 0.0558 - acc: 0.9818 - val_loss: 1.1616 - val_acc: 0.7652\n",
            "Epoch 31/40\n",
            "704/704 [==============================] - 35s 50ms/step - loss: 0.0705 - acc: 0.9791 - val_loss: 1.4180 - val_acc: 0.6816\n",
            "Epoch 32/40\n",
            "704/704 [==============================] - 35s 50ms/step - loss: 0.0956 - acc: 0.9697 - val_loss: 1.1240 - val_acc: 0.7772\n",
            "Epoch 33/40\n",
            "704/704 [==============================] - 35s 50ms/step - loss: 0.1258 - acc: 0.9627 - val_loss: 1.0906 - val_acc: 0.7594\n",
            "Epoch 34/40\n",
            "704/704 [==============================] - 36s 51ms/step - loss: 0.1261 - acc: 0.9605 - val_loss: 1.0568 - val_acc: 0.7740\n",
            "Epoch 35/40\n",
            "704/704 [==============================] - 36s 51ms/step - loss: 0.0495 - acc: 0.9838 - val_loss: 0.9912 - val_acc: 0.7974\n",
            "Epoch 36/40\n",
            "704/704 [==============================] - 35s 50ms/step - loss: 0.1145 - acc: 0.9652 - val_loss: 0.9774 - val_acc: 0.7848\n",
            "Epoch 37/40\n",
            "704/704 [==============================] - 36s 51ms/step - loss: 0.0632 - acc: 0.9806 - val_loss: 1.1163 - val_acc: 0.7818\n",
            "Epoch 38/40\n",
            "704/704 [==============================] - 35s 50ms/step - loss: 0.0430 - acc: 0.9868 - val_loss: 1.3760 - val_acc: 0.7380\n",
            "Epoch 39/40\n",
            "704/704 [==============================] - 37s 52ms/step - loss: 0.0607 - acc: 0.9809 - val_loss: 1.0864 - val_acc: 0.7798\n",
            "Epoch 40/40\n",
            "704/704 [==============================] - 37s 53ms/step - loss: 0.0735 - acc: 0.9781 - val_loss: 1.0328 - val_acc: 0.7830\n"
          ]
        }
      ]
    },
    {
      "cell_type": "code",
      "source": [
        "fig, ax = plt.subplots(2,1)\n",
        "ax[0].plot(history.history['loss'], color='b', label=\"Training Loss\")\n",
        "ax[0].plot(history.history['val_loss'], color='r', label=\"Validation Loss\",axes =ax[0])\n",
        "legend = ax[0].legend(loc='best', shadow=True)\n",
        "\n",
        "ax[1].plot(history.history['acc'], color='b', label=\"Training Accuracy\")\n",
        "ax[1].plot(history.history['val_acc'], color='r',label=\"Validation Accuracy\")\n",
        "legend = ax[1].legend(loc='best', shadow=True)"
      ],
      "metadata": {
        "colab": {
          "base_uri": "https://localhost:8080/",
          "height": 433
        },
        "id": "H-KkJQ2uKAyp",
        "outputId": "7db05855-367e-48bd-84bc-ec0713998b28"
      },
      "execution_count": null,
      "outputs": [
        {
          "output_type": "display_data",
          "data": {
            "text/plain": [
              "<Figure size 640x480 with 2 Axes>"
            ],
            "image/png": "[encoded data removed]"
          },
          "metadata": {}
        }
      ]
    },
    {
      "cell_type": "code",
      "source": [
        "test_loss, test_acc = model.evaluate(x_test, y_test_cat)"
      ],
      "metadata": {
        "colab": {
          "base_uri": "https://localhost:8080/"
        },
        "id": "O5S9ZpC2KEKQ",
        "outputId": "4f7914d3-1727-48c6-a2f9-663939a774b3"
      },
      "execution_count": null,
      "outputs": [
        {
          "output_type": "stream",
          "name": "stdout",
          "text": [
            "157/157 [==============================] - 2s 10ms/step - loss: 1.0328 - acc: 0.7830\n"
          ]
        }
      ]
    }
  ]
}